{
 "cells": [
  {
   "cell_type": "markdown",
   "metadata": {},
   "source": [
    "The task analyses a dataset by finding out the significant variables and getting rid of unsignificant variables.\n",
    "\n",
    "The dataset contains education information of people. We are trying to find which variables are relavant. First of all, we visualize the data by showing the correlation of variables. From the picture we find that the senior secondary is more relevant with MBA score than higher secondary score. Because in the heatmap, the correlation score between ssc_p and mba_p is 0.39 which is more than 0.35 that is the correlation score between hsc_p and mba_p.\n",
    "\n",
    "Then the next task is to train a regression model with sscp and hscp as predictor variable and map as response variable. We find that the r^2 = correlation score^2 is 0.17. And we get the model: mba_p=0.14×ssc_p+0.13×hsc_p+44.05. After that, we use OLS to figure out whether those two predictor variables is statistically significant by checking the p-value.The p-value for each independent variable tests the null hypothesis that the variable has no correlation with the dependent variable.The p-values for these two variables are 0.000. Therefore, we can conclude that hsc and ssc predictor variables are statistically significant.\n",
    "\n",
    "The task 2 is to compare two senarios and find out which one is better by calculating the r-square. The first scenario is using mbap as outcome variable and sscp and degreep as two predictor variables. The second still uses mbap as outcome variable but hscp and degreep as predictor variables. The results shows that the pair of sscp and degreep has higher r-square score, which is about 0.267, which means that the correlation score is about 0.52.\n",
    "\n",
    "The task 3 is to train a multiple regression model with sscp, hscp and degreep as predictor variables and mbap as the response variable. After trainning, we use OLS and check p-value to get rid of insignificant variable. We can see in the table that the p-value of ssc variable is 0.004. So, we should drop these feature and retrain the model.\n",
    "\n",
    "After retraining, we can see that the p-value of the rest predictor variables are 0.00. Last but not least, we test the model and show the predictions. We can see that the results are various. Some predictions are accurate with less than 1 percent difference from the target. Some are large, with the difference of over 10. "
   ]
  }
 ],
 "metadata": {
  "kernelspec": {
   "display_name": "Python 3",
   "language": "python",
   "name": "python3"
  },
  "language_info": {
   "codemirror_mode": {
    "name": "ipython",
    "version": 3
   },
   "file_extension": ".py",
   "mimetype": "text/x-python",
   "name": "python",
   "nbconvert_exporter": "python",
   "pygments_lexer": "ipython3",
   "version": "3.6.3"
  }
 },
 "nbformat": 4,
 "nbformat_minor": 4
}
